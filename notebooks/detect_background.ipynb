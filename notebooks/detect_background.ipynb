{
 "cells": [
  {
   "cell_type": "code",
   "execution_count": null,
   "id": "1431a830-7b72-4f79-a4b2-bf5fa27ad136",
   "metadata": {},
   "outputs": [],
   "source": [
    "import pathlib\n",
    "import multiprocessing as mproc\n",
    "from tqdm.notebook import tqdm\n",
    "import numpy as np\n",
    "import matplotlib.pyplot as plt\n",
    "import pandas as pd\n",
    "import torch\n",
    "from mayoclinic.slide import SlideManager\n",
    "\n",
    "import warnings\n",
    "from rasterio.errors import NotGeoreferencedWarning\n",
    "warnings.filterwarnings(\"ignore\", category=NotGeoreferencedWarning)"
   ]
  },
  {
   "cell_type": "code",
   "execution_count": null,
   "id": "40cd5f6d-6845-46b7-b257-eda1896d71aa",
   "metadata": {
    "tags": []
   },
   "outputs": [],
   "source": [
    "DATA_ROOT = pathlib.Path(\"../../data\")\n",
    "DATASET_DIR = DATA_ROOT / \"input/mayo-clinic-strip-ai\"\n",
    "TRAIN_TIFF_DIR = DATASET_DIR / \"train\"\n",
    "TEST_TIFF_DIR = DATASET_DIR / \"test\"\n",
    "OUTPUT_DIR = DATA_ROOT / \"working\"\n",
    "OUTPUT_FG_DIR = OUTPUT_DIR / \"fg_ids\"\n",
    "OUTPUT_DOWSCALED_DIR  = OUTPUT_DIR / \"downscaled\"\n",
    "DEVICE = torch.device(\"cuda:0\") if torch.cuda.is_available() else torch.device(\"cpu\")\n",
    "N_CPUS = mproc.cpu_count()"
   ]
  },
  {
   "cell_type": "code",
   "execution_count": null,
   "id": "f8f711c0-1015-468a-8440-0b09a6dfffbc",
   "metadata": {},
   "outputs": [],
   "source": [
    "OUTPUT_FG_DIR.mkdir(parents=True, exist_ok=True)\n",
    "OUTPUT_DOWSCALED_DIR.mkdir(parents=True, exist_ok=True)"
   ]
  },
  {
   "cell_type": "code",
   "execution_count": null,
   "id": "5bb91a9c-3819-4a59-bd7b-c55b2b1d61bb",
   "metadata": {},
   "outputs": [],
   "source": [
    "train_df = pd.read_csv(DATASET_DIR / \"train.csv\")\n",
    "test_df = pd.read_csv(DATASET_DIR / \"test.csv\")\n",
    "slide_paths = [TRAIN_TIFF_DIR / (x + \".tif\" ) for x in train_df[\"image_id\"]]\n",
    "embeddings_dir = OUTPUT_DIR / \"embs\"\n",
    "foreground_ids_dir = OUTPUT_DIR / \"fg_ids\""
   ]
  },
  {
   "cell_type": "code",
   "execution_count": null,
   "id": "594dea04-a6a6-43c5-9342-d1774aadae87",
   "metadata": {},
   "outputs": [],
   "source": [
    "slide_ids = []\n",
    "for path in TRAIN_TIFF_DIR.glob(\"*.tif\"):\n",
    "    slide_ids.append(\".\".join(path.name.split(\".\")[:-1]))\n",
    "\n",
    "train_df = train_df[train_df[\"image_id\"].isin(slide_ids)]"
   ]
  },
  {
   "cell_type": "code",
   "execution_count": null,
   "id": "bf26c068-2f3c-476a-88ad-1bf44f4d3d37",
   "metadata": {},
   "outputs": [],
   "source": [
    "CONFIG = {\n",
    "    \"window_yx\": (256, 256),\n",
    "    \"bg_detection\":\n",
    "    {\n",
    "        \"tile_fg_criterion\": 0.01,\n",
    "        \"tile_bg_brightness\": 0.99,\n",
    "        \"block_size_factor\": 0.05,\n",
    "        \"offset\": 1,\n",
    "        \"erode_n_it\": 2,\n",
    "        \"erode_kernel_size\": 5\n",
    "    }\n",
    "}"
   ]
  },
  {
   "cell_type": "code",
   "execution_count": null,
   "id": "f568f416-968e-4f5b-9fde-4bff0c1f458f",
   "metadata": {},
   "outputs": [],
   "source": [
    "slide_manager  = SlideManager(\n",
    "                window_yx = CONFIG[\"window_yx\"],\n",
    "                tile_fg_criterion = CONFIG[\"bg_detection\"][\"tile_fg_criterion\"],\n",
    "                tile_bg_brightness = CONFIG[\"bg_detection\"][\"tile_bg_brightness\"],\n",
    "                slide_thresh_params = {\n",
    "                    \"block_size_factor\": CONFIG[\"bg_detection\"][\"block_size_factor\"],\n",
    "                    \"offset\": CONFIG[\"bg_detection\"][\"offset\"],\n",
    "                    \"erode_n_it\": CONFIG[\"bg_detection\"][\"erode_n_it\"],\n",
    "                    \"erode_kernel\": np.ones([CONFIG[\"bg_detection\"][\"erode_kernel_size\"]]*2)\n",
    "\n",
    "                },\n",
    ")"
   ]
  },
  {
   "cell_type": "code",
   "execution_count": null,
   "id": "f57ae93f-9da9-45a2-ab9c-d35e43ff4ddf",
   "metadata": {},
   "outputs": [],
   "source": [
    "for idx, sample in tqdm(train_df[2:3].iterrows(), total = len(train_df)):\n",
    "    slide_path = TRAIN_TIFF_DIR / (sample.image_id + \".tif\" )\n",
    "    slide_manager.new_slide(slide_path, n_cpus=N_CPUS)\n",
    "    np.save(OUTPUT_FG_DIR/ (sample.image_id + \".npy\"),slide_manager.foreground_map, allow_pickle=False)\n",
    "    np.save(OUTPUT_DOWSCALED_DIR/  (sample.image_id + \".npy\"),slide_manager.downscaled, allow_pickle=False)"
   ]
  },
  {
   "cell_type": "code",
   "execution_count": null,
   "id": "d68e2c2c-632c-4da6-a3bc-6b863b50caf8",
   "metadata": {},
   "outputs": [],
   "source": [
    "for idx, sample in train_df[0:10].iterrows():\n",
    "    fg_path = OUTPUT_FG_DIR / (sample.image_id + \".npy\")\n",
    "    downscaled_path = OUTPUT_DOWSCALED_DIR / (sample.image_id + \".npy\")\n",
    "    foreground_map = np.load(fg_path)\n",
    "    downscaled = np.load(downscaled_path)\n",
    "\n",
    "\n",
    "    fig, axs = plt.subplots(1,3, figsize = (16, 16))\n",
    "    axs[0].imshow(np.moveaxis(downscaled, 0, -1))\n",
    "    axs[1].imshow(foreground_map)\n",
    "    axs[2].imshow(np.moveaxis(downscaled, 0, -1))\n",
    "    axs[2].imshow(np.stack([foreground_map*255]*3 + [np.ones_like(foreground_map)*100], axis=-1))\n",
    "    plt.show()"
   ]
  },
  {
   "cell_type": "code",
   "execution_count": null,
   "id": "bdf58998-02ed-4c46-80cc-eed12a8ffbed",
   "metadata": {},
   "outputs": [],
   "source": []
  }
 ],
 "metadata": {
  "kernelspec": {
   "display_name": "Python 3 (ipykernel)",
   "language": "python",
   "name": "python3"
  },
  "language_info": {
   "codemirror_mode": {
    "name": "ipython",
    "version": 3
   },
   "file_extension": ".py",
   "mimetype": "text/x-python",
   "name": "python",
   "nbconvert_exporter": "python",
   "pygments_lexer": "ipython3",
   "version": "3.10.4"
  }
 },
 "nbformat": 4,
 "nbformat_minor": 5
}
