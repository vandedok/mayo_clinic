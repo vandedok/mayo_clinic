{
 "cells": [
  {
   "cell_type": "code",
   "execution_count": null,
   "id": "e0bf8785-0490-4e52-999b-1c2ace13f8fa",
   "metadata": {},
   "outputs": [],
   "source": [
    "import pathlib\n",
    "import multiprocessing as mproc\n",
    "import numpy as np\n",
    "import pandas as pd\n",
    "import matplotlib.pyplot as plt\n",
    "import torch\n",
    "import timm\n",
    "from mayoclinic.slide import SlideManager\n",
    "from mayoclinic.predict import MayoPredictor\n",
    "\n",
    "import warnings\n",
    "from rasterio.errors import NotGeoreferencedWarning\n",
    "warnings.filterwarnings(\"ignore\", category=NotGeoreferencedWarning)"
   ]
  },
  {
   "cell_type": "code",
   "execution_count": null,
   "id": "f08054ad-92b1-4015-89d3-c6c9a6dfe13b",
   "metadata": {},
   "outputs": [],
   "source": [
    "DATA_ROOT = pathlib.Path(\"../../data\")\n",
    "DATASET_DIR = DATA_ROOT / \"input/mayo-clinic-strip-ai\"\n",
    "TRAIN_TIFF_DIR = DATASET_DIR / \"train\"\n",
    "TEST_TIFF_DIR = DATASET_DIR / \"test\"\n",
    "OUTPUT_DIR = DATA_ROOT / \"working\"\n",
    "DEVICE = torch.device(\"cuda:0\") if torch.cuda.is_available() else torch.device(\"cpu\")\n",
    "N_CPUS = mproc.cpu_count()"
   ]
  },
  {
   "cell_type": "code",
   "execution_count": null,
   "id": "799e8e5e-c8cc-464d-b4a2-26e3022b0ea5",
   "metadata": {},
   "outputs": [],
   "source": [
    "train_df = pd.read_csv(DATASET_DIR / \"train.csv\")\n",
    "test_df = pd.read_csv(DATASET_DIR / \"test.csv\")\n",
    "slide_paths = [TRAIN_TIFF_DIR / (x + \".tif\" ) for x in train_df[\"image_id\"]]\n",
    "embeddings_dir = OUTPUT_DIR / \"embs\"\n",
    "foreground_ids_dir = OUTPUT_DIR / \"fg_ids\"\n",
    "downscaled_dir = OUTPUT_DIR / \"downscaled\""
   ]
  },
  {
   "cell_type": "code",
   "execution_count": null,
   "id": "f78eb7bc-544a-499d-a76f-73422400c764",
   "metadata": {},
   "outputs": [],
   "source": [
    "CONFIG = {\n",
    "    \"window_yx\": (512, 512),\n",
    "    \"bg_detection\":\n",
    "    {\n",
    "        \"tile_fg_criterion\": 0.01,\n",
    "        \"tile_bg_brightness\": 0.99,\n",
    "        \"block_size_factor\": 0.05,\n",
    "        \"offset\": 1,\n",
    "        \"erode_n_it\": 2,\n",
    "        \"erode_kernel_size\": 5\n",
    "    }\n",
    "}"
   ]
  },
  {
   "cell_type": "code",
   "execution_count": null,
   "id": "b4fceaa6-f331-417a-bb13-bcf86730ed1d",
   "metadata": {},
   "outputs": [],
   "source": [
    "slide_manager  = SlideManager(\n",
    "                window_yx = CONFIG[\"window_yx\"],\n",
    "                tile_fg_criterion = CONFIG[\"bg_detection\"][\"tile_fg_criterion\"],\n",
    "                tile_bg_brightness = CONFIG[\"bg_detection\"][\"tile_bg_brightness\"],\n",
    "                slide_thresh_params = {\n",
    "                    \"block_size_factor\": CONFIG[\"bg_detection\"][\"block_size_factor\"],\n",
    "                    \"offset\": CONFIG[\"bg_detection\"][\"offset\"],\n",
    "                    \"erode_n_it\": CONFIG[\"bg_detection\"][\"erode_n_it\"],\n",
    "                    \"erode_kernel\": np.ones([CONFIG[\"bg_detection\"][\"erode_kernel_size\"]]*2)\n",
    "\n",
    "                },\n",
    ") "
   ]
  },
  {
   "cell_type": "code",
   "execution_count": null,
   "id": "c2f5aeb7-68c9-4fee-9cc7-f6e3e8f594a9",
   "metadata": {},
   "outputs": [],
   "source": [
    "image_id = \"ffec5c_1\"\n",
    "slide_path = TRAIN_TIFF_DIR / (image_id + \".tif\")\n",
    "fg_map_path = foreground_ids_dir / (image_id + \".npy\")\n",
    "downscaled_path = downscaled_dir / (image_id + \".npy\") \n",
    "\n",
    "slide_manager.new_slide(\n",
    "    slide_path,\n",
    "    foreground_map_path=fg_map_path,\n",
    "    downscaled_path=downscaled_path,\n",
    "    n_cpus=N_CPUS\n",
    ")"
   ]
  },
  {
   "cell_type": "code",
   "execution_count": null,
   "id": "4f08e656-3d29-46a4-9d16-dfd70e184242",
   "metadata": {},
   "outputs": [],
   "source": [
    "plt.figure(figsize=(8,8))\n",
    "slide_manager.show_region(3,2)"
   ]
  },
  {
   "cell_type": "code",
   "execution_count": null,
   "id": "d935c87d-800f-43ac-a819-c952361963ed",
   "metadata": {},
   "outputs": [],
   "source": [
    "fine_model = timm.create_model('resnet10t', pretrained=True, num_classes=0)\n",
    "in_imgs = torch.rand((2, 3, 1,1))\n",
    "\n",
    "out = fine_model(in_imgs)\n",
    "\n",
    "emb_size = out.size(1)\n",
    "print(\"Out shape:\", out.shape)\n",
    "print(\"emb_size:\", emb_size)"
   ]
  },
  {
   "cell_type": "code",
   "execution_count": null,
   "id": "7d2fa5e9-4142-44d3-9a2f-b2d96905ece0",
   "metadata": {},
   "outputs": [],
   "source": [
    "predictor = MayoPredictor(\n",
    "        slide_manager= slide_manager,\n",
    "        fine_model=fine_model,\n",
    "        coarse_model=None,\n",
    "        batch_size=128,\n",
    "        n_cpus=mproc.cpu_count(),\n",
    "        device=DEVICE\n",
    ")"
   ]
  },
  {
   "cell_type": "code",
   "execution_count": null,
   "id": "29eb1bae-348d-407a-9d8e-b065e3824719",
   "metadata": {},
   "outputs": [],
   "source": [
    "yxs, embeddings = predictor.get_coarse_repr(slide_path, fg_map_path, downscaled_path)"
   ]
  },
  {
   "cell_type": "code",
   "execution_count": null,
   "id": "f5d6ae6e-c21a-4f79-be81-801c1c2d657d",
   "metadata": {},
   "outputs": [],
   "source": [
    "coarse_map = predictor.coarse_lists_to_map(yxs, embeddings)"
   ]
  },
  {
   "cell_type": "code",
   "execution_count": null,
   "id": "1c2c08b2-3a05-4167-91cc-8ef91f70b153",
   "metadata": {},
   "outputs": [],
   "source": [
    "plt.imshow(coarse_map.mean(0).numpy())"
   ]
  },
  {
   "cell_type": "code",
   "execution_count": null,
   "id": "e31b9ee5-03ff-48c4-82b3-56c46c955ed4",
   "metadata": {},
   "outputs": [],
   "source": []
  }
 ],
 "metadata": {
  "kernelspec": {
   "display_name": "Python 3 (ipykernel)",
   "language": "python",
   "name": "python3"
  },
  "language_info": {
   "codemirror_mode": {
    "name": "ipython",
    "version": 3
   },
   "file_extension": ".py",
   "mimetype": "text/x-python",
   "name": "python",
   "nbconvert_exporter": "python",
   "pygments_lexer": "ipython3",
   "version": "3.10.4"
  }
 },
 "nbformat": 4,
 "nbformat_minor": 5
}
